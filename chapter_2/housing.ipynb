{
 "cells": [
  {
   "cell_type": "markdown",
   "metadata": {},
   "source": [
    "## End to end ML Project"
   ]
  },
  {
   "cell_type": "markdown",
   "metadata": {},
   "source": [
    "### Get Data"
   ]
  },
  {
   "cell_type": "code",
   "execution_count": null,
   "metadata": {},
   "outputs": [],
   "source": [
    "# Importing the needed libraries\n",
    "import pandas as pd\n",
    "import pathlib as path\n",
    "import tarfile\n",
    "import urllib.request\n",
    "\n",
    "# Function to download the dataset\n",
    "def load_housing_data():\n",
    "    tarball_path=path(\"datasets/housing.tgz\")\n",
    "    if not tarball_path.is_file():\n",
    "        url=\"https://github.com/ageron/data/raw/main/housing.tgz\"\n",
    "        urllib.request.urlretrieve(url,tarball_path)\n",
    "    with tarfile.open(tarball_path) as housing_tarball:\n",
    "        housing_tarball.extractall(path=\"datasets\")\n",
    "    return pd.read_csv(\"datasets/housing/housing.csv\")\n",
    "\n",
    "# Function to load the dataset\n",
    "housing=load_housing_data()\n"
   ]
  }
 ],
 "metadata": {
  "kernelspec": {
   "display_name": "ml_book",
   "language": "python",
   "name": "python3"
  },
  "language_info": {
   "codemirror_mode": {
    "name": "ipython",
    "version": 3
   },
   "file_extension": ".py",
   "mimetype": "text/x-python",
   "name": "python",
   "nbconvert_exporter": "python",
   "pygments_lexer": "ipython3",
   "version": "3.12.9"
  }
 },
 "nbformat": 4,
 "nbformat_minor": 2
}
